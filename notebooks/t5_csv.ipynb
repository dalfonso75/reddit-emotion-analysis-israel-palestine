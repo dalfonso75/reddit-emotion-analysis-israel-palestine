{
 "cells": [
  {
   "cell_type": "code",
   "execution_count": 10,
   "id": "a67b3ce4",
   "metadata": {},
   "outputs": [],
   "source": [
    "import pandas as pd"
   ]
  },
  {
   "cell_type": "code",
   "execution_count": 11,
   "id": "ca293460",
   "metadata": {},
   "outputs": [
    {
     "name": "stdout",
     "output_type": "stream",
     "text": [
      "predicted_emotion\n",
      "anger       948236\n",
      "joy         761467\n",
      "sadness     487894\n",
      "fear        209927\n",
      "surprise     55322\n",
      "love         21114\n",
      "unknown      12496\n",
      "Name: count, dtype: int64\n"
     ]
    }
   ],
   "source": [
    "df_t5 = pd.read_csv(\"../data/chunks_T5/reddit_emotions_replace.csv\")\n",
    "emotion_count = df_t5[\"predicted_emotion\"].str.lower().str.strip().value_counts()\n",
    "print(emotion_count)"
   ]
  },
  {
   "cell_type": "code",
   "execution_count": 12,
   "id": "ad32c8fa",
   "metadata": {},
   "outputs": [
    {
     "name": "stdout",
     "output_type": "stream",
     "text": [
      "predicted_emotion\n",
      "neutral     911341\n",
      "anger       632140\n",
      "surprise    345427\n",
      "fear        162418\n",
      "joy         158459\n",
      "sadness     156945\n",
      "disgust     117606\n",
      "unknown      12120\n",
      "Name: count, dtype: int64\n"
     ]
    }
   ],
   "source": [
    "df_roberta = pd.read_csv(\"../data/chunks_roberta/reddit_emotions.csv\")\n",
    "emotion_count_roberta = df_roberta[\"predicted_emotion\"].str.lower().str.strip().value_counts()\n",
    "print(emotion_count_roberta)"
   ]
  },
  {
   "cell_type": "code",
   "execution_count": 13,
   "id": "9dbf34b1",
   "metadata": {},
   "outputs": [
    {
     "name": "stdout",
     "output_type": "stream",
     "text": [
      "predicted_emotion\n",
      "anger       1271292\n",
      "joy          762605\n",
      "sadness      251969\n",
      "fear         147850\n",
      "surprise      30752\n",
      "love          19868\n",
      "unknown       12120\n",
      "Name: count, dtype: int64\n"
     ]
    }
   ],
   "source": [
    "df_distilbert = pd.read_csv(\"../data/chunks_distilbert/reddit_emotions.csv\")\n",
    "emotion_count_distilbert = df_distilbert[\"predicted_emotion\"].str.lower().str.strip().value_counts()\n",
    "print(emotion_count_distilbert)"
   ]
  }
 ],
 "metadata": {
  "kernelspec": {
   "display_name": "Python 3",
   "language": "python",
   "name": "python3"
  },
  "language_info": {
   "codemirror_mode": {
    "name": "ipython",
    "version": 3
   },
   "file_extension": ".py",
   "mimetype": "text/x-python",
   "name": "python",
   "nbconvert_exporter": "python",
   "pygments_lexer": "ipython3",
   "version": "3.12.4"
  }
 },
 "nbformat": 4,
 "nbformat_minor": 5
}
