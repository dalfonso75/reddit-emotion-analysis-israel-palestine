{
 "cells": [
  {
   "cell_type": "code",
   "execution_count": 1,
   "id": "ec13f17d",
   "metadata": {},
   "outputs": [],
   "source": [
    "import pandas as pd\n",
    "\n",
    "# Cargar el CSV original\n",
    "df = pd.read_csv(\"../data/reddit_opinion_PSE_ISR_cleaned.csv\")\n",
    "\n",
    "# Obtener las primeras 10000 filas\n",
    "primeras_1000 = df.head(50000)\n",
    "\n",
    "# Guardar las primeras 10000 filas en un nuevo CSV\n",
    "primeras_1000.to_csv(\"../data/sample_clean_50000.csv\", index=False)"
   ]
  },
  {
   "cell_type": "code",
   "execution_count": null,
   "id": "862ba440",
   "metadata": {},
   "outputs": [],
   "source": []
  }
 ],
 "metadata": {
  "kernelspec": {
   "display_name": "Python 3",
   "language": "python",
   "name": "python3"
  },
  "language_info": {
   "codemirror_mode": {
    "name": "ipython",
    "version": 3
   },
   "file_extension": ".py",
   "mimetype": "text/x-python",
   "name": "python",
   "nbconvert_exporter": "python",
   "pygments_lexer": "ipython3",
   "version": "3.12.4"
  }
 },
 "nbformat": 4,
 "nbformat_minor": 5
}
